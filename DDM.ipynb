{
 "cells": [
  {
   "cell_type": "markdown",
   "metadata": {},
   "source": [
    "# Discounted Dividend Valuation\n",
    "***\n",
    "\n",
    "Moderate\n",
    "\n",
    "Cash flows from a business can be in the form of dividends, free cash flow and residual income. \n",
    "\n",
    "\n",
    "\n",
    "##### 1. Dividend Discount Model\n",
    ">Gordon Growth model<br>\n",
    "Determining the present value of a stock by discounting future dividends.<br>\n",
    "The discount rate is the required rate of return less the assumed growth rate.<br>\n",
    "![](image src=\"Gordon Growth Model EQ.JPG\"/><br>\n",
    "V = current value<br>\n",
    "D = current dividend before growth rate applied | (1 + g) = growth rate on dividend<br>\n",
    "r = required rate of return | g = constant growth rate in perpetuity<br>\n",
    "\n",
    "\n",
    "\n"
   ]
  },
  {
   "cell_type": "code",
   "execution_count": 2,
   "metadata": {},
   "outputs": [],
   "source": [
    "# Gordon Growth Model\n",
    "def gordon_growth_model(dividend,required_return,growth_rate):\n",
    "    GGM = (dividend*(1+growth_rate))/(required_return-growth_rate)\n",
    "    return GGM\n",
    "\n"
   ]
  }
 ],
 "metadata": {
  "kernelspec": {
   "display_name": "Python 3",
   "language": "python",
   "name": "python3"
  },
  "language_info": {
   "codemirror_mode": {
    "name": "ipython",
    "version": 3
   },
   "file_extension": ".py",
   "mimetype": "text/x-python",
   "name": "python",
   "nbconvert_exporter": "python",
   "pygments_lexer": "ipython3",
   "version": "3.7.1"
  }
 },
 "nbformat": 4,
 "nbformat_minor": 2
}
