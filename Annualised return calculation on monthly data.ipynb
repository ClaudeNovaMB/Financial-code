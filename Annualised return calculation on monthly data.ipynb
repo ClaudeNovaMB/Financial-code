{
 "cells": [
  {
   "cell_type": "code",
   "execution_count": 1,
   "metadata": {},
   "outputs": [],
   "source": [
    "import pandas as pd\n",
    "import numpy as np"
   ]
  },
  {
   "cell_type": "code",
   "execution_count": null,
   "metadata": {},
   "outputs": [],
   "source": [
    "# Assumptions: \n",
    "# 1. Data entries are monthly\n",
    "# 2. Returns are logirithmic\n",
    "# 3. Returns are based on monthly closing prices\n",
    "\n",
    "#Open the csv file into a dataframe\n",
    "df = pd.read_csv(r\"____________.csv\", header=0, parse_dates=True)\n",
    "\n",
    "#Extract the relevant column for calculation\n",
    "returns = df['column name']\n",
    "\n",
    "#Calculate the number on months\n",
    "n_months = len(returns)\n",
    "\n",
    "#Annualise returns\n",
    "annualised _return = (((1 + np.prod(returns))**(12/n_months))-1) * 100\n",
    "\n",
    "\n"
   ]
  }
 ],
 "metadata": {
  "kernelspec": {
   "display_name": "Python 3",
   "language": "python",
   "name": "python3"
  },
  "language_info": {
   "codemirror_mode": {
    "name": "ipython",
    "version": 3
   },
   "file_extension": ".py",
   "mimetype": "text/x-python",
   "name": "python",
   "nbconvert_exporter": "python",
   "pygments_lexer": "ipython3",
   "version": "3.7.1"
  }
 },
 "nbformat": 4,
 "nbformat_minor": 2
}
