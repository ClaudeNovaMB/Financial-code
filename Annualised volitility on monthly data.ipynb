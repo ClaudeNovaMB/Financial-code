{
 "cells": [
  {
   "cell_type": "code",
   "execution_count": null,
   "metadata": {},
   "outputs": [],
   "source": [
    "import pandas as pd\n",
    "import numpy as np"
   ]
  },
  {
   "cell_type": "code",
   "execution_count": null,
   "metadata": {},
   "outputs": [],
   "source": [
    "# Assumptions: \n",
    "# 1. Data entries are daily\n",
    "# 2. Returns are logirithmic\n",
    "\n",
    "\n",
    "#Open the csv file into a dataframe\n",
    "df = pd.read_csv(r\"____________.csv\", header=0, parse_dates=True)\n",
    "\n",
    "#Extract the relevant column for calculation\n",
    "returns = df['column name']\n",
    "\n",
    "#Annualise return volitility as a percentage\n",
    "annualised_vol = returns.std()*np.sqrt(\"number of trading days\")*100 #Replace \"number of trading days\" with an integer of trading days\n"
   ]
  }
 ],
 "metadata": {
  "kernelspec": {
   "display_name": "Python 3",
   "language": "python",
   "name": "python3"
  },
  "language_info": {
   "codemirror_mode": {
    "name": "ipython",
    "version": 3
   },
   "file_extension": ".py",
   "mimetype": "text/x-python",
   "name": "python",
   "nbconvert_exporter": "python",
   "pygments_lexer": "ipython3",
   "version": "3.7.1"
  }
 },
 "nbformat": 4,
 "nbformat_minor": 2
}
