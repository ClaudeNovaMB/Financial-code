{
 "cells": [
  {
   "cell_type": "markdown",
   "metadata": {},
   "source": [
    "# CAPM\n",
    "***\n",
    "\n",
    "THE BASICS\n",
    "This model focuses on risk by distunguishing risk into Systematic Risk and Unsystematic Risk. <br> The only relevant risk is Systematic risk aka *Beta*.\n",
    "\n",
    "Terminology\n",
    "Systematic Risk - The portion of risk which cannot be reduced by diversification.<br>\n",
    "Unsystematic Risk - The portion of risk specific to each stock which can be reduced by diversification.\n",
    "\n",
    "\n",
    "Expected return is the risk free rate plus market premium.\n",
    "> Risk free rate (Bond, T-Bill)\n",
    "> Premium is the Beta adjusted market return \n",
    "\n",
    "Beta is the measure of a stock's volitility (risk) relative to market's volitility (risk).\n",
    "Alpha is additional return / excess return beyond expected return.\n",
    "\n",
    "Key concept:\n",
    "> Beta = 1 stock's risk is the same as the market's risk<br>\n",
    "Beta > 1 stock's risk is higher than the market's risk<br>\n",
    "Beta < 1 stock's risk is lower than the markets's risk\n",
    "\n",
    "Calculated as \n",
    "Beta = Covariance(asset returns with market returns) / Variance(market returns)\n",
    "\n",
    "NB! Beta of a portfolio is a linear combination of weighted beta value.<br>\n",
    "As it is linear, ordinary least square linear regression method can be used for calculating a profolio's beta.\n",
    "\n",
    "Alpha = expected return less CAPM.\n",
    "\n",
    "NB!It is favourable to use monthly returns to ensure that returns are approximately normally distributed."
   ]
  },
  {
   "cell_type": "markdown",
   "metadata": {},
   "source": [
    "# Coding the Theory - A practical example"
   ]
  },
  {
   "cell_type": "markdown",
   "metadata": {},
   "source": [
    "### Get time series data \n",
    "***\n",
    "###### I chose Quandl to get data from for stocks that interest me -> https://www.quandl.com/ <- you must register to get your secret_key\n",
    "###### if you dont have the quandl library then use this in your cmd \"pip install quandl\""
   ]
  },
  {
   "cell_type": "code",
   "execution_count": 1,
   "metadata": {},
   "outputs": [],
   "source": [
    "# Using Quandl Library to draw data from their API\n",
    "import quandl\n",
    "quandl.ApiConfig.api_key = \"Secret\"\n",
    "\n",
    "# Import data utility libraries\n",
    "import pandas as pd\n",
    "import numpy as np\n",
    "from datetime import date\n",
    "\n",
    "# Import visualisation library\n",
    "import matplotlib.pyplot as plt\n",
    "#For using matplotlibs inline backend displaying and retaining plat in the frontend notebook\n",
    "%matplotlib inline "
   ]
  },
  {
   "cell_type": "code",
   "execution_count": 2,
   "metadata": {},
   "outputs": [
    {
     "data": {
      "text/plain": [
       "['IBM', 'NFLX', 'NVDA', 'XOM']"
      ]
     },
     "execution_count": 2,
     "metadata": {},
     "output_type": "execute_result"
    }
   ],
   "source": [
    "# 2019 US Risk free rate\n",
    "rf = 0.03\n",
    "\n",
    "#Select stock\n",
    "stocks = [\"NFLX\",\"NVDA\", \"XOM\", \"IBM\"]\n",
    "stocks.sort()\n",
    "stocks"
   ]
  },
  {
   "cell_type": "code",
   "execution_count": 3,
   "metadata": {},
   "outputs": [],
   "source": [
    "# Building a dataframe with Inflation adjusted S&P500 monthly prices\n",
    "spy_data = quandl.get(\"MULTPL/SP500_REAL_PRICE_MONTH\", authtoken=\"Secret\")\n",
    "\n",
    "# Building a dataframe with the following stocks (Netflix, Nvidia, Exxon Mobil, IBM)\n",
    "stock_data = quandl.get_table(\"WIKI/PRICES\", ticker = stocks, date={'gte':'2010-04-01', 'lte':'2020-03-31'}, paginate=True)"
   ]
  },
  {
   "cell_type": "code",
   "execution_count": 4,
   "metadata": {},
   "outputs": [
    {
     "data": {
      "text/html": [
       "<div>\n",
       "<style scoped>\n",
       "    .dataframe tbody tr th:only-of-type {\n",
       "        vertical-align: middle;\n",
       "    }\n",
       "\n",
       "    .dataframe tbody tr th {\n",
       "        vertical-align: top;\n",
       "    }\n",
       "\n",
       "    .dataframe thead th {\n",
       "        text-align: right;\n",
       "    }\n",
       "</style>\n",
       "<table border=\"1\" class=\"dataframe\">\n",
       "  <thead>\n",
       "    <tr style=\"text-align: right;\">\n",
       "      <th></th>\n",
       "      <th>Value</th>\n",
       "    </tr>\n",
       "    <tr>\n",
       "      <th>Date</th>\n",
       "      <th></th>\n",
       "    </tr>\n",
       "  </thead>\n",
       "  <tbody>\n",
       "    <tr>\n",
       "      <td>2017-07-01</td>\n",
       "      <td>2454.10</td>\n",
       "    </tr>\n",
       "    <tr>\n",
       "      <td>2017-08-01</td>\n",
       "      <td>2456.22</td>\n",
       "    </tr>\n",
       "    <tr>\n",
       "      <td>2017-09-01</td>\n",
       "      <td>2492.84</td>\n",
       "    </tr>\n",
       "    <tr>\n",
       "      <td>2017-10-01</td>\n",
       "      <td>2557.00</td>\n",
       "    </tr>\n",
       "    <tr>\n",
       "      <td>2017-11-01</td>\n",
       "      <td>2593.61</td>\n",
       "    </tr>\n",
       "    <tr>\n",
       "      <td>2017-12-01</td>\n",
       "      <td>2664.34</td>\n",
       "    </tr>\n",
       "    <tr>\n",
       "      <td>2018-01-01</td>\n",
       "      <td>2789.80</td>\n",
       "    </tr>\n",
       "  </tbody>\n",
       "</table>\n",
       "</div>"
      ],
      "text/plain": [
       "              Value\n",
       "Date               \n",
       "2017-07-01  2454.10\n",
       "2017-08-01  2456.22\n",
       "2017-09-01  2492.84\n",
       "2017-10-01  2557.00\n",
       "2017-11-01  2593.61\n",
       "2017-12-01  2664.34\n",
       "2018-01-01  2789.80"
      ]
     },
     "execution_count": 4,
     "metadata": {},
     "output_type": "execute_result"
    }
   ],
   "source": [
    "#Checking S&P data\n",
    "spy_data['2017-07-01':'2018-01-01']"
   ]
  },
  {
   "cell_type": "code",
   "execution_count": 5,
   "metadata": {},
   "outputs": [
    {
     "data": {
      "text/html": [
       "<div>\n",
       "<style scoped>\n",
       "    .dataframe tbody tr th:only-of-type {\n",
       "        vertical-align: middle;\n",
       "    }\n",
       "\n",
       "    .dataframe tbody tr th {\n",
       "        vertical-align: top;\n",
       "    }\n",
       "\n",
       "    .dataframe thead th {\n",
       "        text-align: right;\n",
       "    }\n",
       "</style>\n",
       "<table border=\"1\" class=\"dataframe\">\n",
       "  <thead>\n",
       "    <tr style=\"text-align: right;\">\n",
       "      <th></th>\n",
       "      <th>ticker</th>\n",
       "      <th>date</th>\n",
       "      <th>open</th>\n",
       "      <th>high</th>\n",
       "      <th>low</th>\n",
       "      <th>close</th>\n",
       "      <th>volume</th>\n",
       "      <th>ex-dividend</th>\n",
       "      <th>split_ratio</th>\n",
       "      <th>adj_open</th>\n",
       "      <th>adj_high</th>\n",
       "      <th>adj_low</th>\n",
       "      <th>adj_close</th>\n",
       "      <th>adj_volume</th>\n",
       "    </tr>\n",
       "    <tr>\n",
       "      <th>None</th>\n",
       "      <th></th>\n",
       "      <th></th>\n",
       "      <th></th>\n",
       "      <th></th>\n",
       "      <th></th>\n",
       "      <th></th>\n",
       "      <th></th>\n",
       "      <th></th>\n",
       "      <th></th>\n",
       "      <th></th>\n",
       "      <th></th>\n",
       "      <th></th>\n",
       "      <th></th>\n",
       "      <th></th>\n",
       "    </tr>\n",
       "  </thead>\n",
       "  <tbody>\n",
       "    <tr>\n",
       "      <td>0</td>\n",
       "      <td>XOM</td>\n",
       "      <td>2018-03-27</td>\n",
       "      <td>74.00</td>\n",
       "      <td>74.8949</td>\n",
       "      <td>73.2750</td>\n",
       "      <td>73.70</td>\n",
       "      <td>14625541.0</td>\n",
       "      <td>0.0</td>\n",
       "      <td>1.0</td>\n",
       "      <td>74.00</td>\n",
       "      <td>74.8949</td>\n",
       "      <td>73.2750</td>\n",
       "      <td>73.70</td>\n",
       "      <td>14625541.0</td>\n",
       "    </tr>\n",
       "    <tr>\n",
       "      <td>1</td>\n",
       "      <td>XOM</td>\n",
       "      <td>2018-03-26</td>\n",
       "      <td>73.65</td>\n",
       "      <td>74.1500</td>\n",
       "      <td>72.7548</td>\n",
       "      <td>74.00</td>\n",
       "      <td>14894438.0</td>\n",
       "      <td>0.0</td>\n",
       "      <td>1.0</td>\n",
       "      <td>73.65</td>\n",
       "      <td>74.1500</td>\n",
       "      <td>72.7548</td>\n",
       "      <td>74.00</td>\n",
       "      <td>14894438.0</td>\n",
       "    </tr>\n",
       "    <tr>\n",
       "      <td>2</td>\n",
       "      <td>XOM</td>\n",
       "      <td>2018-03-23</td>\n",
       "      <td>73.81</td>\n",
       "      <td>74.2100</td>\n",
       "      <td>72.6700</td>\n",
       "      <td>72.89</td>\n",
       "      <td>19069634.0</td>\n",
       "      <td>0.0</td>\n",
       "      <td>1.0</td>\n",
       "      <td>73.81</td>\n",
       "      <td>74.2100</td>\n",
       "      <td>72.6700</td>\n",
       "      <td>72.89</td>\n",
       "      <td>19069634.0</td>\n",
       "    </tr>\n",
       "    <tr>\n",
       "      <td>3</td>\n",
       "      <td>XOM</td>\n",
       "      <td>2018-03-22</td>\n",
       "      <td>74.42</td>\n",
       "      <td>74.7000</td>\n",
       "      <td>73.3900</td>\n",
       "      <td>73.50</td>\n",
       "      <td>17118037.0</td>\n",
       "      <td>0.0</td>\n",
       "      <td>1.0</td>\n",
       "      <td>74.42</td>\n",
       "      <td>74.7000</td>\n",
       "      <td>73.3900</td>\n",
       "      <td>73.50</td>\n",
       "      <td>17118037.0</td>\n",
       "    </tr>\n",
       "    <tr>\n",
       "      <td>4</td>\n",
       "      <td>XOM</td>\n",
       "      <td>2018-03-21</td>\n",
       "      <td>74.23</td>\n",
       "      <td>75.6400</td>\n",
       "      <td>73.9800</td>\n",
       "      <td>75.04</td>\n",
       "      <td>14813757.0</td>\n",
       "      <td>0.0</td>\n",
       "      <td>1.0</td>\n",
       "      <td>74.23</td>\n",
       "      <td>75.6400</td>\n",
       "      <td>73.9800</td>\n",
       "      <td>75.04</td>\n",
       "      <td>14813757.0</td>\n",
       "    </tr>\n",
       "  </tbody>\n",
       "</table>\n",
       "</div>"
      ],
      "text/plain": [
       "     ticker       date   open     high      low  close      volume  \\\n",
       "None                                                                 \n",
       "0       XOM 2018-03-27  74.00  74.8949  73.2750  73.70  14625541.0   \n",
       "1       XOM 2018-03-26  73.65  74.1500  72.7548  74.00  14894438.0   \n",
       "2       XOM 2018-03-23  73.81  74.2100  72.6700  72.89  19069634.0   \n",
       "3       XOM 2018-03-22  74.42  74.7000  73.3900  73.50  17118037.0   \n",
       "4       XOM 2018-03-21  74.23  75.6400  73.9800  75.04  14813757.0   \n",
       "\n",
       "      ex-dividend  split_ratio  adj_open  adj_high  adj_low  adj_close  \\\n",
       "None                                                                     \n",
       "0             0.0          1.0     74.00   74.8949  73.2750      73.70   \n",
       "1             0.0          1.0     73.65   74.1500  72.7548      74.00   \n",
       "2             0.0          1.0     73.81   74.2100  72.6700      72.89   \n",
       "3             0.0          1.0     74.42   74.7000  73.3900      73.50   \n",
       "4             0.0          1.0     74.23   75.6400  73.9800      75.04   \n",
       "\n",
       "      adj_volume  \n",
       "None              \n",
       "0     14625541.0  \n",
       "1     14894438.0  \n",
       "2     19069634.0  \n",
       "3     17118037.0  \n",
       "4     14813757.0  "
      ]
     },
     "execution_count": 5,
     "metadata": {},
     "output_type": "execute_result"
    }
   ],
   "source": [
    "#Checking stocks data\n",
    "stock_data.head()"
   ]
  },
  {
   "cell_type": "markdown",
   "metadata": {},
   "source": [
    "### Wrangle the data\n",
    "***\n",
    "###### Be mindful of assigning specific data to unique variable names so you can preserve that data for later use."
   ]
  },
  {
   "cell_type": "code",
   "execution_count": 6,
   "metadata": {},
   "outputs": [
    {
     "data": {
      "text/html": [
       "<div>\n",
       "<style scoped>\n",
       "    .dataframe tbody tr th:only-of-type {\n",
       "        vertical-align: middle;\n",
       "    }\n",
       "\n",
       "    .dataframe tbody tr th {\n",
       "        vertical-align: top;\n",
       "    }\n",
       "\n",
       "    .dataframe thead th {\n",
       "        text-align: right;\n",
       "    }\n",
       "</style>\n",
       "<table border=\"1\" class=\"dataframe\">\n",
       "  <thead>\n",
       "    <tr style=\"text-align: right;\">\n",
       "      <th>ticker</th>\n",
       "      <th>IBM</th>\n",
       "      <th>NFLX</th>\n",
       "      <th>NVDA</th>\n",
       "      <th>XOM</th>\n",
       "    </tr>\n",
       "    <tr>\n",
       "      <th>date</th>\n",
       "      <th></th>\n",
       "      <th></th>\n",
       "      <th></th>\n",
       "      <th></th>\n",
       "    </tr>\n",
       "  </thead>\n",
       "  <tbody>\n",
       "    <tr>\n",
       "      <td>2010-04-01</td>\n",
       "      <td>105.116266</td>\n",
       "      <td>10.714286</td>\n",
       "      <td>15.978432</td>\n",
       "      <td>53.691934</td>\n",
       "    </tr>\n",
       "    <tr>\n",
       "      <td>2010-04-05</td>\n",
       "      <td>106.017848</td>\n",
       "      <td>11.427143</td>\n",
       "      <td>16.219686</td>\n",
       "      <td>54.152536</td>\n",
       "    </tr>\n",
       "    <tr>\n",
       "      <td>2010-04-06</td>\n",
       "      <td>105.673607</td>\n",
       "      <td>11.910000</td>\n",
       "      <td>15.820690</td>\n",
       "      <td>53.922235</td>\n",
       "    </tr>\n",
       "    <tr>\n",
       "      <td>2010-04-07</td>\n",
       "      <td>105.304778</td>\n",
       "      <td>11.390000</td>\n",
       "      <td>15.922758</td>\n",
       "      <td>53.477516</td>\n",
       "    </tr>\n",
       "    <tr>\n",
       "      <td>2010-04-08</td>\n",
       "      <td>104.591709</td>\n",
       "      <td>11.690000</td>\n",
       "      <td>15.662947</td>\n",
       "      <td>53.890469</td>\n",
       "    </tr>\n",
       "  </tbody>\n",
       "</table>\n",
       "</div>"
      ],
      "text/plain": [
       "ticker             IBM       NFLX       NVDA        XOM\n",
       "date                                                   \n",
       "2010-04-01  105.116266  10.714286  15.978432  53.691934\n",
       "2010-04-05  106.017848  11.427143  16.219686  54.152536\n",
       "2010-04-06  105.673607  11.910000  15.820690  53.922235\n",
       "2010-04-07  105.304778  11.390000  15.922758  53.477516\n",
       "2010-04-08  104.591709  11.690000  15.662947  53.890469"
      ]
     },
     "execution_count": 6,
     "metadata": {},
     "output_type": "execute_result"
    }
   ],
   "source": [
    "# Extract and pivot the adjusted closing prices for each stock \n",
    "\n",
    "df = stock_data.pivot(index='date', columns='ticker', values='adj_close')\n",
    "\n",
    "\n",
    "# NB! the data only returns to 31 March 2018 which is less than the 10 years of our original call\n",
    "\n",
    "df.head()"
   ]
  },
  {
   "cell_type": "code",
   "execution_count": 7,
   "metadata": {},
   "outputs": [
    {
     "data": {
      "text/html": [
       "<div>\n",
       "<style scoped>\n",
       "    .dataframe tbody tr th:only-of-type {\n",
       "        vertical-align: middle;\n",
       "    }\n",
       "\n",
       "    .dataframe tbody tr th {\n",
       "        vertical-align: top;\n",
       "    }\n",
       "\n",
       "    .dataframe thead th {\n",
       "        text-align: right;\n",
       "    }\n",
       "</style>\n",
       "<table border=\"1\" class=\"dataframe\">\n",
       "  <thead>\n",
       "    <tr style=\"text-align: right;\">\n",
       "      <th></th>\n",
       "      <th>IBM</th>\n",
       "      <th>NFLX</th>\n",
       "      <th>NVDA</th>\n",
       "      <th>XOM</th>\n",
       "      <th>S&amp;P</th>\n",
       "    </tr>\n",
       "    <tr>\n",
       "      <th>Date</th>\n",
       "      <th></th>\n",
       "      <th></th>\n",
       "      <th></th>\n",
       "      <th></th>\n",
       "      <th></th>\n",
       "    </tr>\n",
       "  </thead>\n",
       "  <tbody>\n",
       "    <tr>\n",
       "      <td>2010-06-01</td>\n",
       "      <td>-0.025730</td>\n",
       "      <td>0.358047</td>\n",
       "      <td>-0.313963</td>\n",
       "      <td>-0.125187</td>\n",
       "      <td>-0.100018</td>\n",
       "    </tr>\n",
       "    <tr>\n",
       "      <td>2010-07-01</td>\n",
       "      <td>-0.014337</td>\n",
       "      <td>0.021849</td>\n",
       "      <td>-0.192227</td>\n",
       "      <td>-0.045580</td>\n",
       "      <td>-0.003291</td>\n",
       "    </tr>\n",
       "    <tr>\n",
       "      <td>2010-09-01</td>\n",
       "      <td>0.030755</td>\n",
       "      <td>0.207260</td>\n",
       "      <td>-0.099065</td>\n",
       "      <td>0.080471</td>\n",
       "      <td>0.038408</td>\n",
       "    </tr>\n",
       "    <tr>\n",
       "      <td>2010-10-01</td>\n",
       "      <td>0.075549</td>\n",
       "      <td>0.136584</td>\n",
       "      <td>0.188402</td>\n",
       "      <td>0.026409</td>\n",
       "      <td>0.043169</td>\n",
       "    </tr>\n",
       "    <tr>\n",
       "      <td>2010-11-01</td>\n",
       "      <td>0.055076</td>\n",
       "      <td>0.078978</td>\n",
       "      <td>0.059017</td>\n",
       "      <td>0.068140</td>\n",
       "      <td>0.023043</td>\n",
       "    </tr>\n",
       "  </tbody>\n",
       "</table>\n",
       "</div>"
      ],
      "text/plain": [
       "                 IBM      NFLX      NVDA       XOM       S&P\n",
       "Date                                                        \n",
       "2010-06-01 -0.025730  0.358047 -0.313963 -0.125187 -0.100018\n",
       "2010-07-01 -0.014337  0.021849 -0.192227 -0.045580 -0.003291\n",
       "2010-09-01  0.030755  0.207260 -0.099065  0.080471  0.038408\n",
       "2010-10-01  0.075549  0.136584  0.188402  0.026409  0.043169\n",
       "2010-11-01  0.055076  0.078978  0.059017  0.068140  0.023043"
      ]
     },
     "execution_count": 7,
     "metadata": {},
     "output_type": "execute_result"
    }
   ],
   "source": [
    "# Merging both dataframes and then calculating log returns\n",
    "df_m = df.merge(spy_data, left_index=True, right_index=True, how='right')\n",
    "df_m.dropna(axis=0, inplace=True)\n",
    "df_m_returns = df_m.pct_change().apply(lambda x : np.log(x+1))\n",
    "\n",
    "#Removing rows without usable data\n",
    "df_m_returns.dropna(axis=0, inplace=True)\n",
    "\n",
    "#Renaming the S&P column\n",
    "df_m_returns.rename(columns={\"Value\" : \"S&P\"}, inplace=True)\n",
    "\n",
    "#Checking data\n",
    "df_m_returns.head()"
   ]
  },
  {
   "cell_type": "code",
   "execution_count": 8,
   "metadata": {},
   "outputs": [
    {
     "data": {
      "image/png": "[encoded data removed]",
      "text/plain": [
       "<Figure size 432x288 with 1 Axes>"
      ]
     },
     "metadata": {
      "needs_background": "light"
     },
     "output_type": "display_data"
    },
    {
     "name": "stdout",
     "output_type": "stream",
     "text": [
      "The beta value from the equation for IBM is 0.582.\n",
      "The beta value from regression for IBM is 0.582.\n",
      "The expected return for IBM is 10.43%.\n",
      "\n",
      "\n"
     ]
    },
    {
     "data": {
      "image/png": "[encoded data removed]",
      "text/plain": [
       "<Figure size 432x288 with 1 Axes>"
      ]
     },
     "metadata": {
      "needs_background": "light"
     },
     "output_type": "display_data"
    },
    {
     "name": "stdout",
     "output_type": "stream",
     "text": [
      "The beta value from the equation for NFLX is 0.833.\n",
      "The beta value from regression for NFLX is 0.833.\n",
      "The expected return for NFLX is 13.62%.\n",
      "\n",
      "\n"
     ]
    },
    {
     "data": {
      "image/png": "[encoded data removed]",
      "text/plain": [
       "<Figure size 432x288 with 1 Axes>"
      ]
     },
     "metadata": {
      "needs_background": "light"
     },
     "output_type": "display_data"
    },
    {
     "name": "stdout",
     "output_type": "stream",
     "text": [
      "The beta value from the equation for NVDA is 1.689.\n",
      "The beta value from regression for NVDA is 1.689.\n",
      "The expected return for NVDA is 24.55%.\n",
      "\n",
      "\n"
     ]
    },
    {
     "data": {
      "image/png": "[encoded data removed]",
      "text/plain": [
       "<Figure size 432x288 with 1 Axes>"
      ]
     },
     "metadata": {
      "needs_background": "light"
     },
     "output_type": "display_data"
    },
    {
     "name": "stdout",
     "output_type": "stream",
     "text": [
      "The beta value from the equation for XOM is 0.928.\n",
      "The beta value from regression for XOM is 0.928.\n",
      "The expected return for XOM is 14.84%.\n",
      "\n",
      "\n"
     ]
    }
   ],
   "source": [
    "#Building 3 empty lists two for beta values from the formula and regression calculation methods and one for expected returns\n",
    "betaFs = []\n",
    "betaRs = []\n",
    "exp_returns = []\n",
    "\n",
    "#Looping over each stock to calculate beta value and expected return with associated plot and results\n",
    "for i in stocks:\n",
    "    \n",
    "    covmat = np.cov(df_m_returns[i],df_m_returns['S&P'])\n",
    "    betaF = covmat[0,1]/covmat[1,1]\n",
    "    betaFs.append(betaF)\n",
    "    betaR,alpha = np.polyfit(df_m_returns['S&P'],df_m_returns[i], deg=1)\n",
    "    betaRs.append(betaR)\n",
    "    fig,axis = plt.subplots(1,figsize=(6,4))\n",
    "    axis.scatter(df_m_returns['S&P'],df_m_returns[i], label=\"Data Points\")\n",
    "    axis.plot(df_m_returns['S&P'],betaR*df_m_returns['S&P'] + alpha, color='red', label=\"CAPM Line\")\n",
    "    plt.title(i)\n",
    "    plt.xlabel('Market Return $R_m$', fontsize=10)\n",
    "    plt.ylabel('Stock Return $R_m$')\n",
    "    plt.text(0.085, 0.08, r'$R_a = beta * R_m + alpha$', fontsize=10)\n",
    "    plt.legend()\n",
    "    plt.grid(True)\n",
    "    plt.show()\n",
    "    expected_return = rf + betaF*((df_m_returns['S&P'].mean()*12)-rf)\n",
    "    exp_returns.append(expected_return)\n",
    "    \n",
    "    print('The beta value from the equation for {} is {}.'.format(i,round(betaF,3)))\n",
    "    print('The beta value from regression for {} is {}.'.format(i,round(betaR,3)))\n",
    "    print('The expected return for {} is {}%.'.format(i,round(expected_return*100,2)))\n",
    "    print('\\n')\n",
    "    "
   ]
  }
 ],
 "metadata": {
  "kernelspec": {
   "display_name": "Python 3",
   "language": "python",
   "name": "python3"
  },
  "language_info": {
   "codemirror_mode": {
    "name": "ipython",
    "version": 3
   },
   "file_extension": ".py",
   "mimetype": "text/x-python",
   "name": "python",
   "nbconvert_exporter": "python",
   "pygments_lexer": "ipython3",
   "version": "3.7.1"
  }
 },
 "nbformat": 4,
 "nbformat_minor": 2
}
