{
 "cells": [
  {
   "cell_type": "markdown",
   "metadata": {},
   "source": [
    "# Markowitz model\n",
    "***\n",
    "\n",
    "THE BASICS<br>\n",
    "This model is the basis for diversifying a portfolio to maximise returns and minimise risk<br>\n",
    "aka The optimal portfolio<br>\n",
    "\n",
    "> Owning several stocks vs owning just one stock <br>\n",
    "Investor or portfolio manager can enter into Long and Short positions\n",
    "\n",
    "Terminology <br>\n",
    "Long position - When an assets value is expected to increase a long position is entered <br>\n",
    "Short poistion - When an assets value is expected to decrease a long position is entered\n",
    "\n",
    "\n",
    "\n",
    "The model's main assumptions are:\n",
    "1. Returns are normally distributed (Mean(µ) and Variance(σ))\n",
    "2. Investors are risk averse (Investors wont take on more risk without maximising returns)\n",
    "\n",
    "Key concepts:\n",
    "> Low risk | Low return &<br> Higher risk | Higher return\n",
    "\n",
    "This model focuses on achieving the optimal return for a given level of risk (visa verse)\n",
    "\n",
    "NB! It is important to normalise a return by calculating the natural logirithmic return <br>\n",
    "Basis for this is in complexity theory. The easy method for checking if returns have been normalised is to plot values on a histogram. The shape plotted should resemble a gausian bell shaped curve.\n",
    "\n",
    "### Important factors\n",
    "Expected return - the mean of historical returns of a given stock<br>\n",
    "> In context of a portfolio - Weighted average of returns for a given portfolio<br>\n",
    "\n",
    "Covariance - The degree of random behaviour between different assets<br>\n",
    "> In context of a portfolio - covariance of 0 is desirable so that correlation (positive or negative) between stocks in a portfolio is eliminated \n",
    "\n",
    "##### Efficient frontier<br>\n",
    "This describes those portfolios which represent the maximum returns for various levels of risk given a set number of stocks <br>\n",
    "\n",
    "##### Sharp ratio<br>\n",
    "The ratio between expected portfolio return and level of associated risk.<br>\n",
    "The most optimal point is where additional return is maximised for level of risk and thus any additional return is not justified for the level of risk associated with that additional return. \n",
    "\n",
    "##### Capital Allocation line<br>\n",
    "Describes the most efficient portfolio combinations of risk-free assets and risky assets given their returns and risks. \n",
    "\n",
    "NB! Adjusted closeing price is prefered for financial modeling as it is the closing price adjusted for additional factors which impacts price not included in the nominal closing price (Examples of adjustment factors are dividends and stock splits)"
   ]
  },
  {
   "cell_type": "markdown",
   "metadata": {},
   "source": [
    "# Coding the Theory - A practical example"
   ]
  },
  {
   "cell_type": "markdown",
   "metadata": {},
   "source": [
    "### Get time series data \n",
    "***\n",
    "###### I chose Quandl to get data from for stocks that interest me -> https://www.quandl.com/ <- you must register to get your secret_key\n",
    "###### if you dont have the quandl library then use this in your cmd \"pip install quandl\""
   ]
  },
  {
   "cell_type": "code",
   "execution_count": 1,
   "metadata": {},
   "outputs": [],
   "source": [
    "# Using Quandl Library to draw data from their API\n",
    "import quandl\n",
    "quandl.ApiConfig.api_key = \"secret key\"\n",
    "\n",
    "# Import data utility libraries\n",
    "import pandas as pd\n",
    "import numpy as np\n",
    "\n",
    "# Import visualisation library\n",
    "import matplotlib.pyplot as plt\n",
    "#For using matplotlibs inline backend displaying and retaining plat in the frontend notebook\n",
    "%matplotlib inline \n",
    "\n",
    "#Import Scipy Optimization library\n",
    "import scipy.optimize as opt\n"
   ]
  },
  {
   "cell_type": "code",
   "execution_count": 2,
   "metadata": {},
   "outputs": [],
   "source": [
    "# Building a dataframe with the following stocks (Netflix, Nvidia, Exxon Mobil, Tesla, )\n",
    "stocks = [\"NFLX\",\"NVDA\", \"XOM\", \"TSLA\"]\n",
    "data = quandl.get_table(\"WIKI/PRICES\", ticker = stocks, date={'gte':'2010-04-01', 'lte':'2020-03-31'}, paginate=True)"
   ]
  },
  {
   "cell_type": "code",
   "execution_count": 3,
   "metadata": {},
   "outputs": [
    {
     "data": {
      "text/html": [
       "<div>\n",
       "<style scoped>\n",
       "    .dataframe tbody tr th:only-of-type {\n",
       "        vertical-align: middle;\n",
       "    }\n",
       "\n",
       "    .dataframe tbody tr th {\n",
       "        vertical-align: top;\n",
       "    }\n",
       "\n",
       "    .dataframe thead th {\n",
       "        text-align: right;\n",
       "    }\n",
       "</style>\n",
       "<table border=\"1\" class=\"dataframe\">\n",
       "  <thead>\n",
       "    <tr style=\"text-align: right;\">\n",
       "      <th></th>\n",
       "      <th>ticker</th>\n",
       "      <th>date</th>\n",
       "      <th>open</th>\n",
       "      <th>high</th>\n",
       "      <th>low</th>\n",
       "      <th>close</th>\n",
       "      <th>volume</th>\n",
       "      <th>ex-dividend</th>\n",
       "      <th>split_ratio</th>\n",
       "      <th>adj_open</th>\n",
       "      <th>adj_high</th>\n",
       "      <th>adj_low</th>\n",
       "      <th>adj_close</th>\n",
       "      <th>adj_volume</th>\n",
       "    </tr>\n",
       "    <tr>\n",
       "      <th>None</th>\n",
       "      <th></th>\n",
       "      <th></th>\n",
       "      <th></th>\n",
       "      <th></th>\n",
       "      <th></th>\n",
       "      <th></th>\n",
       "      <th></th>\n",
       "      <th></th>\n",
       "      <th></th>\n",
       "      <th></th>\n",
       "      <th></th>\n",
       "      <th></th>\n",
       "      <th></th>\n",
       "      <th></th>\n",
       "    </tr>\n",
       "  </thead>\n",
       "  <tbody>\n",
       "    <tr>\n",
       "      <td>0</td>\n",
       "      <td>XOM</td>\n",
       "      <td>2018-03-27</td>\n",
       "      <td>74.00</td>\n",
       "      <td>74.8949</td>\n",
       "      <td>73.2750</td>\n",
       "      <td>73.70</td>\n",
       "      <td>14625541.0</td>\n",
       "      <td>0.0</td>\n",
       "      <td>1.0</td>\n",
       "      <td>74.00</td>\n",
       "      <td>74.8949</td>\n",
       "      <td>73.2750</td>\n",
       "      <td>73.70</td>\n",
       "      <td>14625541.0</td>\n",
       "    </tr>\n",
       "    <tr>\n",
       "      <td>1</td>\n",
       "      <td>XOM</td>\n",
       "      <td>2018-03-26</td>\n",
       "      <td>73.65</td>\n",
       "      <td>74.1500</td>\n",
       "      <td>72.7548</td>\n",
       "      <td>74.00</td>\n",
       "      <td>14894438.0</td>\n",
       "      <td>0.0</td>\n",
       "      <td>1.0</td>\n",
       "      <td>73.65</td>\n",
       "      <td>74.1500</td>\n",
       "      <td>72.7548</td>\n",
       "      <td>74.00</td>\n",
       "      <td>14894438.0</td>\n",
       "    </tr>\n",
       "    <tr>\n",
       "      <td>2</td>\n",
       "      <td>XOM</td>\n",
       "      <td>2018-03-23</td>\n",
       "      <td>73.81</td>\n",
       "      <td>74.2100</td>\n",
       "      <td>72.6700</td>\n",
       "      <td>72.89</td>\n",
       "      <td>19069634.0</td>\n",
       "      <td>0.0</td>\n",
       "      <td>1.0</td>\n",
       "      <td>73.81</td>\n",
       "      <td>74.2100</td>\n",
       "      <td>72.6700</td>\n",
       "      <td>72.89</td>\n",
       "      <td>19069634.0</td>\n",
       "    </tr>\n",
       "    <tr>\n",
       "      <td>3</td>\n",
       "      <td>XOM</td>\n",
       "      <td>2018-03-22</td>\n",
       "      <td>74.42</td>\n",
       "      <td>74.7000</td>\n",
       "      <td>73.3900</td>\n",
       "      <td>73.50</td>\n",
       "      <td>17118037.0</td>\n",
       "      <td>0.0</td>\n",
       "      <td>1.0</td>\n",
       "      <td>74.42</td>\n",
       "      <td>74.7000</td>\n",
       "      <td>73.3900</td>\n",
       "      <td>73.50</td>\n",
       "      <td>17118037.0</td>\n",
       "    </tr>\n",
       "    <tr>\n",
       "      <td>4</td>\n",
       "      <td>XOM</td>\n",
       "      <td>2018-03-21</td>\n",
       "      <td>74.23</td>\n",
       "      <td>75.6400</td>\n",
       "      <td>73.9800</td>\n",
       "      <td>75.04</td>\n",
       "      <td>14813757.0</td>\n",
       "      <td>0.0</td>\n",
       "      <td>1.0</td>\n",
       "      <td>74.23</td>\n",
       "      <td>75.6400</td>\n",
       "      <td>73.9800</td>\n",
       "      <td>75.04</td>\n",
       "      <td>14813757.0</td>\n",
       "    </tr>\n",
       "  </tbody>\n",
       "</table>\n",
       "</div>"
      ],
      "text/plain": [
       "     ticker       date   open     high      low  close      volume  \\\n",
       "None                                                                 \n",
       "0       XOM 2018-03-27  74.00  74.8949  73.2750  73.70  14625541.0   \n",
       "1       XOM 2018-03-26  73.65  74.1500  72.7548  74.00  14894438.0   \n",
       "2       XOM 2018-03-23  73.81  74.2100  72.6700  72.89  19069634.0   \n",
       "3       XOM 2018-03-22  74.42  74.7000  73.3900  73.50  17118037.0   \n",
       "4       XOM 2018-03-21  74.23  75.6400  73.9800  75.04  14813757.0   \n",
       "\n",
       "      ex-dividend  split_ratio  adj_open  adj_high  adj_low  adj_close  \\\n",
       "None                                                                     \n",
       "0             0.0          1.0     74.00   74.8949  73.2750      73.70   \n",
       "1             0.0          1.0     73.65   74.1500  72.7548      74.00   \n",
       "2             0.0          1.0     73.81   74.2100  72.6700      72.89   \n",
       "3             0.0          1.0     74.42   74.7000  73.3900      73.50   \n",
       "4             0.0          1.0     74.23   75.6400  73.9800      75.04   \n",
       "\n",
       "      adj_volume  \n",
       "None              \n",
       "0     14625541.0  \n",
       "1     14894438.0  \n",
       "2     19069634.0  \n",
       "3     17118037.0  \n",
       "4     14813757.0  "
      ]
     },
     "execution_count": 3,
     "metadata": {},
     "output_type": "execute_result"
    }
   ],
   "source": [
    "# Quick check of the data\n",
    "data.head()"
   ]
  },
  {
   "cell_type": "markdown",
   "metadata": {},
   "source": [
    "### Wrangle the data\n",
    "***\n",
    "###### Be mindful of assigning specific data to unique variable names so you can preserve that data for later use."
   ]
  },
  {
   "cell_type": "code",
   "execution_count": 5,
   "metadata": {},
   "outputs": [
    {
     "data": {
      "text/html": [
       "<div>\n",
       "<style scoped>\n",
       "    .dataframe tbody tr th:only-of-type {\n",
       "        vertical-align: middle;\n",
       "    }\n",
       "\n",
       "    .dataframe tbody tr th {\n",
       "        vertical-align: top;\n",
       "    }\n",
       "\n",
       "    .dataframe thead th {\n",
       "        text-align: right;\n",
       "    }\n",
       "</style>\n",
       "<table border=\"1\" class=\"dataframe\">\n",
       "  <thead>\n",
       "    <tr style=\"text-align: right;\">\n",
       "      <th>ticker</th>\n",
       "      <th>NFLX</th>\n",
       "      <th>NVDA</th>\n",
       "      <th>TSLA</th>\n",
       "      <th>XOM</th>\n",
       "    </tr>\n",
       "    <tr>\n",
       "      <th>date</th>\n",
       "      <th></th>\n",
       "      <th></th>\n",
       "      <th></th>\n",
       "      <th></th>\n",
       "    </tr>\n",
       "  </thead>\n",
       "  <tbody>\n",
       "    <tr>\n",
       "      <td>2018-03-21</td>\n",
       "      <td>316.48</td>\n",
       "      <td>248.56</td>\n",
       "      <td>316.53</td>\n",
       "      <td>75.04</td>\n",
       "    </tr>\n",
       "    <tr>\n",
       "      <td>2018-03-22</td>\n",
       "      <td>306.70</td>\n",
       "      <td>241.85</td>\n",
       "      <td>309.10</td>\n",
       "      <td>73.50</td>\n",
       "    </tr>\n",
       "    <tr>\n",
       "      <td>2018-03-23</td>\n",
       "      <td>300.94</td>\n",
       "      <td>232.97</td>\n",
       "      <td>301.54</td>\n",
       "      <td>72.89</td>\n",
       "    </tr>\n",
       "    <tr>\n",
       "      <td>2018-03-26</td>\n",
       "      <td>320.35</td>\n",
       "      <td>244.48</td>\n",
       "      <td>304.18</td>\n",
       "      <td>74.00</td>\n",
       "    </tr>\n",
       "    <tr>\n",
       "      <td>2018-03-27</td>\n",
       "      <td>300.69</td>\n",
       "      <td>225.52</td>\n",
       "      <td>279.18</td>\n",
       "      <td>73.70</td>\n",
       "    </tr>\n",
       "  </tbody>\n",
       "</table>\n",
       "</div>"
      ],
      "text/plain": [
       "ticker        NFLX    NVDA    TSLA    XOM\n",
       "date                                     \n",
       "2018-03-21  316.48  248.56  316.53  75.04\n",
       "2018-03-22  306.70  241.85  309.10  73.50\n",
       "2018-03-23  300.94  232.97  301.54  72.89\n",
       "2018-03-26  320.35  244.48  304.18  74.00\n",
       "2018-03-27  300.69  225.52  279.18  73.70"
      ]
     },
     "execution_count": 5,
     "metadata": {},
     "output_type": "execute_result"
    }
   ],
   "source": [
    "# Extract and pivot the adjusted closing prices for each stock \n",
    "\n",
    "df = data.pivot(index='date', columns='ticker', values='adj_close')\n",
    "\n",
    "# NB! the data only returns to 21 March 2018 which is less than the 10 years of our original call\n",
    "\n",
    "df.tail()"
   ]
  },
  {
   "cell_type": "code",
   "execution_count": 7,
   "metadata": {},
   "outputs": [
    {
     "data": {
      "text/html": [
       "<div>\n",
       "<style scoped>\n",
       "    .dataframe tbody tr th:only-of-type {\n",
       "        vertical-align: middle;\n",
       "    }\n",
       "\n",
       "    .dataframe tbody tr th {\n",
       "        vertical-align: top;\n",
       "    }\n",
       "\n",
       "    .dataframe thead th {\n",
       "        text-align: right;\n",
       "    }\n",
       "</style>\n",
       "<table border=\"1\" class=\"dataframe\">\n",
       "  <thead>\n",
       "    <tr style=\"text-align: right;\">\n",
       "      <th>ticker</th>\n",
       "      <th>NFLX</th>\n",
       "      <th>NVDA</th>\n",
       "      <th>TSLA</th>\n",
       "      <th>XOM</th>\n",
       "    </tr>\n",
       "    <tr>\n",
       "      <th>date</th>\n",
       "      <th></th>\n",
       "      <th></th>\n",
       "      <th></th>\n",
       "      <th></th>\n",
       "    </tr>\n",
       "  </thead>\n",
       "  <tbody>\n",
       "    <tr>\n",
       "      <td>2018-03-21</td>\n",
       "      <td>-0.003218</td>\n",
       "      <td>-0.004095</td>\n",
       "      <td>0.019073</td>\n",
       "      <td>0.014091</td>\n",
       "    </tr>\n",
       "    <tr>\n",
       "      <td>2018-03-22</td>\n",
       "      <td>-0.031390</td>\n",
       "      <td>-0.027367</td>\n",
       "      <td>-0.023753</td>\n",
       "      <td>-0.020736</td>\n",
       "    </tr>\n",
       "    <tr>\n",
       "      <td>2018-03-23</td>\n",
       "      <td>-0.018959</td>\n",
       "      <td>-0.037408</td>\n",
       "      <td>-0.024762</td>\n",
       "      <td>-0.008334</td>\n",
       "    </tr>\n",
       "    <tr>\n",
       "      <td>2018-03-26</td>\n",
       "      <td>0.062503</td>\n",
       "      <td>0.048224</td>\n",
       "      <td>0.008717</td>\n",
       "      <td>0.015114</td>\n",
       "    </tr>\n",
       "    <tr>\n",
       "      <td>2018-03-27</td>\n",
       "      <td>-0.063334</td>\n",
       "      <td>-0.080725</td>\n",
       "      <td>-0.085763</td>\n",
       "      <td>-0.004062</td>\n",
       "    </tr>\n",
       "  </tbody>\n",
       "</table>\n",
       "</div>"
      ],
      "text/plain": [
       "ticker          NFLX      NVDA      TSLA       XOM\n",
       "date                                              \n",
       "2018-03-21 -0.003218 -0.004095  0.019073  0.014091\n",
       "2018-03-22 -0.031390 -0.027367 -0.023753 -0.020736\n",
       "2018-03-23 -0.018959 -0.037408 -0.024762 -0.008334\n",
       "2018-03-26  0.062503  0.048224  0.008717  0.015114\n",
       "2018-03-27 -0.063334 -0.080725 -0.085763 -0.004062"
      ]
     },
     "execution_count": 7,
     "metadata": {},
     "output_type": "execute_result"
    }
   ],
   "source": [
    "# Then calculate logirithmic daily return\n",
    "\n",
    "returns = df.pct_change().apply(lambda x : np.log(x+1))\n",
    "returns.tail()\n"
   ]
  },
  {
   "cell_type": "code",
   "execution_count": 18,
   "metadata": {},
   "outputs": [
    {
     "data": {
      "image/png": "[encoded data removed]",
      "text/plain": [
       "<Figure size 360x360 with 4 Axes>"
      ]
     },
     "metadata": {
      "needs_background": "light"
     },
     "output_type": "display_data"
    }
   ],
   "source": [
    "# Check if data conforms to Gaussian Distribution (Bell shaped distribution)\n",
    "returns.hist(figsize=(5,5),bins=100,sharex=False )\n",
    "plt.show()"
   ]
  },
  {
   "cell_type": "markdown",
   "metadata": {},
   "source": [
    "### Analysis and optimisation of a portfolio containing the selected stocks"
   ]
  },
  {
   "cell_type": "code",
   "execution_count": 9,
   "metadata": {},
   "outputs": [
    {
     "name": "stdout",
     "output_type": "stream",
     "text": [
      "Stats\n",
      "\n",
      "Average annual percentage returns of the data\n",
      "ticker\n",
      "NFLX    41.826504\n",
      "NVDA    33.204907\n",
      "TSLA    31.802669\n",
      "XOM      3.973046\n",
      "dtype: float64 \n",
      "\n",
      "Standard deviations (Annualised)\n",
      "ticker\n",
      "NFLX    0.541114\n",
      "NVDA    0.389172\n",
      "TSLA    0.502787\n",
      "XOM     0.184003\n",
      "dtype: float64 \n",
      "\n",
      "Variances\n",
      "ticker\n",
      "NFLX    0.292804\n",
      "NVDA    0.151455\n",
      "TSLA    0.252794\n",
      "XOM     0.033857\n",
      "dtype: float64 \n",
      "\n",
      "Covariance Matrix\n",
      "ticker      NFLX      NVDA      TSLA       XOM\n",
      "ticker                                        \n",
      "NFLX    0.292804  0.051705  0.059456  0.015420\n",
      "NVDA    0.051705  0.151455  0.050162  0.022859\n",
      "TSLA    0.059456  0.050162  0.252794  0.020330\n",
      "XOM     0.015420  0.022859  0.020330  0.033857\n"
     ]
    }
   ],
   "source": [
    "# Calculate mean and build the covariance matrix (based on 252 trading days per annum)\n",
    "print(\"Stats\\n\")\n",
    "print(\"Average annual percentage returns of the data\")\n",
    "print(returns.mean()*252*100,\"\\n\")\n",
    "print(\"Standard deviations (Annualised)\")\n",
    "print(returns.std()*np.sqrt(252),\"\\n\")\n",
    "print(\"Variances\")\n",
    "print(returns.var()*252,'\\n')\n",
    "print(\"Covariance Matrix\")\n",
    "print(returns.cov()*252)"
   ]
  },
  {
   "cell_type": "code",
   "execution_count": 10,
   "metadata": {},
   "outputs": [
    {
     "data": {
      "text/plain": [
       "array([0.45346103, 0.3562271 , 0.18037244, 0.00993943])"
      ]
     },
     "execution_count": 10,
     "metadata": {},
     "output_type": "execute_result"
    }
   ],
   "source": [
    "# Initial weights at random\n",
    "weights = np.random.random(len(returns.columns))\n",
    "weights/=np.sum(weights)\n",
    "weights"
   ]
  },
  {
   "cell_type": "code",
   "execution_count": 11,
   "metadata": {},
   "outputs": [
    {
     "name": "stdout",
     "output_type": "stream",
     "text": [
      "Expected annualised portfolio returns: 0.36570992478484243 \n",
      "\n",
      "Expected annualised portfolio variance: 0.3477152571436471\n"
     ]
    }
   ],
   "source": [
    "# Calculate portfolio returns using the initialised weights\n",
    "portfolio_returns = np.sum(returns.mean()*weights)*252\n",
    "print(\"Expected annualised portfolio returns:\", portfolio_returns, '\\n')\n",
    "\n",
    "# Calculate portfolio variance\n",
    "portfolio_variance = np.sqrt(np.dot(weights.T, np.dot(returns.cov()*252,weights)))\n",
    "print(\"Expected annualised portfolio variance:\", portfolio_variance)\n"
   ]
  },
  {
   "cell_type": "markdown",
   "metadata": {},
   "source": [
    "###### Monte-Carlo simulation -> generating many random portfolios \n",
    "***\n",
    "This is a process of finding the optimal weights to achieve the most returns for the lowest amount of risk."
   ]
  },
  {
   "cell_type": "code",
   "execution_count": 12,
   "metadata": {},
   "outputs": [],
   "source": [
    "# Applying the simulation in a deterministic fasion to build lists of returns and associated risk (variances)\n",
    "aggragated_pf_returns = []\n",
    "aggragated_pf_variances = []\n",
    "for i in range(10000):\n",
    "    sim_weights = np.random.random(len(returns.columns))\n",
    "    sim_weights/=np.sum(sim_weights)\n",
    "    aggragated_pf_returns.append(np.sum(returns.mean()*sim_weights)*252)\n",
    "    aggragated_pf_variances.append(np.sqrt(np.dot(sim_weights.T, np.dot(returns.cov()*252,sim_weights))))\n",
    "sim_aggragated_pf_returns = np.array(aggragated_pf_returns)\n",
    "sim_aggragated_pf_variances = np.array(aggragated_pf_variances)\n"
   ]
  },
  {
   "cell_type": "code",
   "execution_count": 16,
   "metadata": {},
   "outputs": [
    {
     "data": {
      "image/png": "[encoded data removed]",
      "text/plain": [
       "<Figure size 720x576 with 1 Axes>"
      ]
     },
     "metadata": {
      "needs_background": "light"
     },
     "output_type": "display_data"
    }
   ],
   "source": [
    "# Plot simulation results also known as the Efficient Frontier\n",
    "plt.figure(figsize=(10,8))\n",
    "plt.scatter(sim_aggragated_pf_variances, sim_aggragated_pf_returns,\n",
    "            c=sim_aggragated_pf_returns/sim_aggragated_pf_variances,\n",
    "           marker=\"o\")\n",
    "plt.grid(True)\n",
    "plt.xlabel(\"Risk expectations (Variances)\")\n",
    "plt.ylabel(\"Expected Returns\")\n",
    "plt.title(\"Efficient Frontier Of Portfolios\")\n",
    "plt.show()"
   ]
  },
  {
   "cell_type": "code",
   "execution_count": null,
   "metadata": {},
   "outputs": [],
   "source": []
  }
 ],
 "metadata": {
  "kernelspec": {
   "display_name": "Python 3",
   "language": "python",
   "name": "python3"
  },
  "language_info": {
   "codemirror_mode": {
    "name": "ipython",
    "version": 3
   },
   "file_extension": ".py",
   "mimetype": "text/x-python",
   "name": "python",
   "nbconvert_exporter": "python",
   "pygments_lexer": "ipython3",
   "version": "3.7.1"
  }
 },
 "nbformat": 4,
 "nbformat_minor": 2
}
