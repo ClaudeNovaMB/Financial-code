{
 "cells": [
  {
   "cell_type": "markdown",
   "metadata": {},
   "source": [
    "# Time value of money\n",
    "***\n",
    "THE BASICS<br>\n",
    "Functions for calculating discrete time value of money and continuous time value of money"
   ]
  },
  {
   "cell_type": "code",
   "execution_count": 1,
   "metadata": {},
   "outputs": [],
   "source": [
    "from math import exp"
   ]
  },
  {
   "cell_type": "markdown",
   "metadata": {},
   "source": [
    "### Notes:\n",
    "\n",
    "> General models rely heavily on historical data (assumption that future will be the same as in the past) <br>\n",
    "CAPM - Beta aka market sensitivity is based on historical sensitivities <br>\n",
    "Markowitz model - Standard deviation and variance are also based on historical information <br>\n",
    "<br>\n",
    "> Optimisations can be made to create dynamic models using parameters which evolve over time (Time is considered more closely)\n",
    "<br>\n",
    "Discrete models - stationary vs Continuous models - nonstationary <br>(Differential calculus is used one of which is the Taylor model can be used for the analysis of time value of money)<br>\n",
    "<br>\n",
    "\n",
    "\n",
    "\n"
   ]
  },
  {
   "cell_type": "code",
   "execution_count": 2,
   "metadata": {},
   "outputs": [],
   "source": [
    "def discrete_future_value(x,r,n):\n",
    "    return x*(1+r)**n\n",
    "def discrete_present_value(x,r,n):\n",
    "    return x*(1+r)**-n\n",
    "def continuous_furture_value(x,r,t):\n",
    "    return x*exp(r*t)\n",
    "def continuous_present_value(x,r,t):\n",
    "    return x*exp(-r*t)\n"
   ]
  },
  {
   "cell_type": "code",
   "execution_count": 3,
   "metadata": {},
   "outputs": [
    {
     "name": "stdout",
     "output_type": "stream",
     "text": [
      "Testing discrete models\n",
      "The future value of £100 at 5% in 5 years is: 127.62815625000003\n",
      "The present value of £127.63 at 5% over 5 years is: 100 \n",
      "\n",
      "Testing continuous models\n",
      "The future value of £100 at 5% in 5 years is: 128.40254166877415\n",
      "The present value of £128.40 at 5% over 5 years is: 100\n"
     ]
    }
   ],
   "source": [
    "print('Testing discrete models')\n",
    "print('The future value of £100 at 5% in 5 years is:', discrete_future_value(100,0.05,5))\n",
    "print('The present value of £127.63 at 5% over 5 years is:', round(discrete_present_value(127.62815625,0.05,5)),'\\n')\n",
    "print('Testing continuous models')\n",
    "print('The future value of £100 at 5% in 5 years is:', continuous_furture_value(100,0.05,5))\n",
    "print('The present value of £128.40 at 5% over 5 years is:', round(continuous_present_value(128.40251466877415,0.05,5)))"
   ]
  }
 ],
 "metadata": {
  "kernelspec": {
   "display_name": "Python 3",
   "language": "python",
   "name": "python3"
  },
  "language_info": {
   "codemirror_mode": {
    "name": "ipython",
    "version": 3
   },
   "file_extension": ".py",
   "mimetype": "text/x-python",
   "name": "python",
   "nbconvert_exporter": "python",
   "pygments_lexer": "ipython3",
   "version": "3.7.1"
  }
 },
 "nbformat": 4,
 "nbformat_minor": 2
}
